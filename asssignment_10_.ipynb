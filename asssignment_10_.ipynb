{
  "nbformat": 4,
  "nbformat_minor": 0,
  "metadata": {
    "colab": {
      "name": "asssignment_10  .ipynb",
      "provenance": [],
      "collapsed_sections": [],
      "authorship_tag": "ABX9TyPQ4ajwBwPiPjCnj6wHJcun",
      "include_colab_link": true
    },
    "kernelspec": {
      "name": "python3",
      "display_name": "Python 3"
    },
    "language_info": {
      "name": "python"
    }
  },
  "cells": [
    {
      "cell_type": "markdown",
      "metadata": {
        "id": "view-in-github",
        "colab_type": "text"
      },
      "source": [
        "<a href=\"https://colab.research.google.com/github/Tarunsharma357/assignment/blob/main/asssignment_10_.ipynb\" target=\"_parent\"><img src=\"https://colab.research.google.com/assets/colab-badge.svg\" alt=\"Open In Colab\"/></a>"
      ]
    },
    {
      "cell_type": "code",
      "execution_count": 4,
      "metadata": {
        "id": "RjyqEWNGRXKf"
      },
      "outputs": [],
      "source": [
        "import pandas as pd\n",
        "import numpy as np\n",
        "from sklearn.neighbors import KNeighborsClassifier\n",
        "from sklearn.metrics import classification_report"
      ]
    },
    {
      "cell_type": "code",
      "source": [
        "# Read train and test sets\n",
        "train = pd.read_csv(\"trainKNN.txt\", header=None)\n",
        "train.columns = ['ID', 'RI', 'Na', 'Mg', 'Al', 'Si', 'K', 'Ca', 'Ba', 'Fe', 'Type of glass']\n",
        "test = pd.read_csv('testKNN.txt', header=None)\n",
        "test.columns=['ID', 'RI', 'Na', 'Mg', 'Al', 'Si', 'K', 'Ca', 'Ba', 'Fe', 'Type of glass']\n",
        "test = test.drop('ID', axis=1)"
      ],
      "metadata": {
        "id": "QY_Wn1bKRvr8"
      },
      "execution_count": null,
      "outputs": []
    },
    {
      "cell_type": "code",
      "source": [
        "train.head()"
      ],
      "metadata": {
        "id": "egMLQ_rrRjWP"
      },
      "execution_count": null,
      "outputs": []
    },
    {
      "cell_type": "code",
      "source": [
        "test.head()"
      ],
      "metadata": {
        "id": "jbwSSD_QSOVv"
      },
      "execution_count": null,
      "outputs": []
    },
    {
      "cell_type": "code",
      "source": [
        "train.describe()"
      ],
      "metadata": {
        "id": "n01uhfgESSJ6"
      },
      "execution_count": null,
      "outputs": []
    },
    {
      "cell_type": "code",
      "source": [
        "test.describe()"
      ],
      "metadata": {
        "id": "ZHICP3cbSZXj"
      },
      "execution_count": null,
      "outputs": []
    },
    {
      "cell_type": "code",
      "source": [
        "euclid_model = KNeighborsClassifier(n_neighbors=8, metric=distance.sqeuclidean) \n",
        "manhattan_model = KNeighborsClassifier(n_neighbors=8, metric=distance.cityblock) \n",
        "x_train = train.drop([\"Type of glass\"], axis=1)\n",
        "y_train = train[\"Type of glass\"]\n",
        "euclid_model.fit(x_train,y_train) # Train models\n",
        "manhattan_model.fit(x_train, y_train)\n",
        "x_test = test.drop(\"Type of glass\", axis=1) \n",
        "y_test = test[\"Type of glass\"]"
      ],
      "metadata": {
        "id": "AD1tR0znSmNp"
      },
      "execution_count": null,
      "outputs": []
    },
    {
      "cell_type": "code",
      "source": [
        "manhattan_predictions = manhattan_model.predict(x_test)\n",
        "euclid_predictions = euclid_model.predict(x_test) \n",
        "df = pd.DataFrame({'actual': y_test, 'manhattan': manhattan_predictions, 'euclid': euclid_predictions})\n",
        "df.head()"
      ],
      "metadata": {
        "id": "kqd9Ug_wSu8u"
      },
      "execution_count": null,
      "outputs": []
    },
    {
      "cell_type": "code",
      "source": [
        "manhattan_count = len(df.loc[df['manhattan'] == df['actual']])\n",
        "euclid_count = len(df.loc[df['euclid'] == df['actual']])\n",
        "print('Manhattan Accuracy: {}%'.format(round(100*manhattan_count/len(df), 2)))\n",
        "print(classification_report(y_test, manhattan_predictions, target_names=df['actual'].astype(str).unique()))\n",
        "print ('\\n')\n",
        "print('Square Euclidean Accuracy: {}%'.format(round(100*euclid_count/len(df), 2)))\n",
        "print(classification_report(y_test, euclid_predictions, target_names=df['actual'].astype(str).unique()))"
      ],
      "metadata": {
        "id": "UO-29lTUSyBn"
      },
      "execution_count": null,
      "outputs": []
    }
  ]
}