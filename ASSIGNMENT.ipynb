{
  "nbformat": 4,
  "nbformat_minor": 0,
  "metadata": {
    "colab": {
      "name": "ASSIGNMENT.ipynb",
      "provenance": [],
      "collapsed_sections": [],
      "authorship_tag": "ABX9TyNZk/QNElYdpG4J6vUOSZ3T",
      "include_colab_link": true
    },
    "kernelspec": {
      "name": "python3",
      "display_name": "Python 3"
    },
    "language_info": {
      "name": "python"
    }
  },
  "cells": [
    {
      "cell_type": "markdown",
      "metadata": {
        "id": "view-in-github",
        "colab_type": "text"
      },
      "source": [
        "<a href=\"https://colab.research.google.com/github/Tarunsharma357/assignment/blob/main/ASSIGNMENT.ipynb\" target=\"_parent\"><img src=\"https://colab.research.google.com/assets/colab-badge.svg\" alt=\"Open In Colab\"/></a>"
      ]
    },
    {
      "cell_type": "code",
      "execution_count": null,
      "metadata": {
        "id": "v0_mfWbc3dOO"
      },
      "outputs": [],
      "source": [
        "#2. Build the regression model using Linear regression \n",
        "\n",
        "import matplotlib.pyplot as plt\n",
        "import numpy as np\n",
        "import pandas as pd \n",
        "from sklearn import datasets, linear_model\n",
        "from sklearn.metrics import mean_squared_error, r2_score\n",
        "diabetes_X, diabetes_y = datasets.load_diabetes(return_X_y=True)\n",
        "diabetes_X = diabetes_X[:, np.newaxis, 2]\n",
        "diabetes_X_train = diabetes_X[:-20]\n",
        "diabetes_X_test = diabetes_X[-20:]\n",
        "diabetes_y_train = diabetes_y[:-20]\n",
        "diabetes_y_test = diabetes_y[-20:]\n",
        "\n",
        "regr = linear_model.LinearRegression()\n",
        "\n",
        "regr.fit(diabetes_X_train, diabetes_y_train)\n",
        "\n",
        "diabetes_y_pred = regr.predict(diabetes_X_test)\n",
        "print(\"Coefficients: \\n\", regr.coef_)\n",
        "\n",
        "print(\"Mean squared error: %.2f\" % mean_squared_error(diabetes_y_test, diabetes_y_pred))\n",
        "\n",
        "print(\"Coefficient of determination: %.2f\" % r2_score(diabetes_y_test, diabetes_y_pred))\n",
        "plt.scatter(diabetes_X_test, diabetes_y_test, color=\"black\")\n",
        "plt.plot(diabetes_X_test, diabetes_y_pred, color=\"blue\", linewidth=3)\n",
        "\n",
        "plt.xticks(())\n",
        "plt.yticks(())\n",
        "\n",
        "plt.show()"
      ]
    },
    {
      "cell_type": "code",
      "source": [
        "#Fill the missing values and replace it based on strategy of time series and non time series techniques.#\n",
        "import pandas as pd\n",
        "import numpy as np\n",
        "df = pd.DataFrame({\n",
        "'ord_no':[70001,np.nan,70002,70004,np.nan,70005,np.nan,70010,70003,70012,np.nan,70013],\n",
        "'purch_amt':[150.5,np.nan,65.26,110.5,948.5,np.nan,5760,1983.43,np.nan,250.45, 75.29,3045.6],\n",
        "'sale_amt':[10.5,20.65,np.nan,11.5,98.5,np.nan,57,19.43,np.nan,25.45, 75.29,35.6],\n",
        "'ord_date': ['2012-10-05','2012-09-10',np.nan,'2012-08-17','2012-09-10','2012-07-27','2012-09-10','2012-10-10','2012-10-10','2012-06-27','2012-08-17','2012-04-25'],\n",
        "'customer_id':[3002,3001,3001,3003,3002,3001,3001,3004,3003,3002,3001,3001],\n",
        "'salesman_id':[5002,5003,5001,np.nan,5002,5001,5001,np.nan,5003,5002,5003,np.nan]})\n",
        "print(\"Original Orders DataFrame:\")\n",
        "print(df)\n",
        "print(\"Using median in purch_amt to replace NaN:\")\n",
        "df['purch_amt'].fillna(df['purch_amt'].median(), inplace=True)\n",
        "print(df)\n",
        "print(\"Using mean to replace NaN:\")\n",
        "df['sale_amt'].fillna(int(df['sale_amt'].mean()), inplace=True)\n",
        "print(df)\n"
      ],
      "metadata": {
        "id": "CeEUIZlDBSmQ"
      },
      "execution_count": null,
      "outputs": []
    },
    {
      "cell_type": "code",
      "source": [
        ""
      ],
      "metadata": {
        "id": "NkxInfTITCMA"
      },
      "execution_count": null,
      "outputs": []
    },
    {
      "cell_type": "code",
      "source": [
        "import pandas as pd\n",
        "\n",
        "df = pd.DataFrame([[1, 2, 3], [4, None, None], [None, None, 9]])\n",
        "df = df.fillna(method='ffill')\n"
      ],
      "metadata": {
        "id": "I2ghPiBoB4I5"
      },
      "execution_count": null,
      "outputs": []
    },
    {
      "cell_type": "code",
      "source": [
        "#1. Build the classification model using Logistic regression and Random forest which involves the Data extraction , finding missing values and applying the encoding and standardiser \n",
        "\n",
        "import numpy as np\n",
        "import pandas as pd\n",
        "import matplotlib.pyplot as plt \n",
        "%matplotlib inline\n",
        "import warnings\n",
        "warnings.filterwarnings(\"ignore\")\n",
        "df = pd.read_csv(\"Social_Network_Ads.csv\")\n",
        "\n",
        "X = df.iloc[:,[2,3]].values\n",
        "\n",
        "y = df.iloc[:,-1].values\n",
        "from sklearn.model_selection import train_test_split\n",
        "\n",
        "X_train,X_test,y_train,y_test = train_test_split(X,y, test_size = 0.2, random_state = 0)\n",
        "from sklearn.preprocessing import StandardScaler\n",
        "\n",
        "sc = StandardScaler()\n",
        "\n",
        "X_train = sc.fit_transform(X_train)\n",
        "\n",
        "X_test = sc.transform(X_test)\n",
        "\n",
        "from sklearn.ensemble import RandomForestClassifier\n",
        "\n",
        "classifier = RandomForestClassifier(n_estimators = 10, criterion = \"entropy\", random_state = 1 )\n",
        "\n",
        "classifier.fit(X_train,y_train)\n",
        "y_pred = classifier.predict(X_test)\n",
        "from sklearn.metrics import confusion_matrix\n",
        "\n",
        "from sklearn.linear_model import LogisticRegression\n",
        "\n",
        "classifier = LogisticRegression( random_state = 5)\n",
        "classifier.fit(X_train,y_train)\n",
        "cm = confusion_matrix(y_test,y_pred)\n",
        "cm\n",
        "from matplotlib.colors import ListedColormap\n",
        "X_set, y_set = X_train, y_train\n",
        "X1, X2 = np.meshgrid(np.arange(start = X_set[:, 0].min() - 1, stop = X_set[:, 0].max() + 1, step = 0.01),\n",
        "                     np.arange(start = X_set[:, 1].min() - 1, stop = X_set[:, 1].max() + 1, step = 0.01))\n",
        "plt.contourf(X1, X2, classifier.predict(np.array([X1.ravel(), X2.ravel()]).T).reshape(X1.shape),\n",
        "             alpha = 0.75, cmap = ListedColormap(('red', 'green')))\n",
        "plt.xlim(X1.min(), X1.max())\n",
        "plt.ylim(X2.min(), X2.max())\n",
        "for i, j in enumerate(np.unique(y_set)):\n",
        "    plt.scatter(X_set[y_set == j, 0], X_set[y_set == j, 1],\n",
        "                c = ListedColormap(('red', 'green'))(i), label = j)\n",
        "plt.title('Random Forest Classification (Training set)')\n",
        "plt.xlabel('Age')\n",
        "plt.ylabel('Estimated Salary')\n",
        "plt.legend()\n",
        "plt.show()"
      ],
      "metadata": {
        "id": "mxNMGagb471D"
      },
      "execution_count": null,
      "outputs": []
    },
    {
      "cell_type": "code",
      "source": [
        "#4. Build the interactive app using dash plotly (atleast 5 charts )\n",
        "import dash\n",
        "import dash_table\n",
        "import dash_core_components as dcc\n",
        "import dash_html_components as html\n",
        "from dash.dependencies\n",
        "import Input, Output\n",
        "import plotly.express as px\n",
        "import seaborn as sns\n",
        "\n",
        "import pandas as pd\n",
        "\n",
        "df = pd.read_csv('bank.csv')\n",
        "#print(df.head())\n",
        "app = dash.Dash(__name__)\n",
        "\n",
        "fig1 = px.scatter(df, x = \"age\", y = \"balance\", color = \"job\",\n",
        "  #size = \"duration\", color = \"deposit\", hover_name = \"job\",\n",
        "  log_x = True, size_max = 60)\n",
        "\n",
        "vals = df['marital'].value_counts()\n",
        "  .tolist()\n",
        "labels = ['married', 'divorced', 'single']\n",
        "\n",
        "fig2 = px.bar(x = labels, y = vals)\n",
        "\n",
        "fig3 = px.pie(df, \"deposit\", color = \"deposit\")\n",
        "\n",
        "fig4 = px.imshow(df.corr())\n",
        "\n",
        "fig5 = px.histogram(df, x = \"age\", y = \"duration\", color = \"loan\",\n",
        "  marginal = \"box\", # or violin, rug hover_data = df.columns)\n",
        "\n",
        "app.layout = html.Div([\n",
        "    dcc.Graph(\n",
        "    id = 'bubble',\n",
        "    figure = fig1\n",
        "  ),\n",
        "    dcc.Graph(\n",
        "    id = 'bar',\n",
        "    figure = fig2\n",
        "  ),\n",
        "    dcc.Graph(\n",
        "    id = 'pie',\n",
        "    figure = fig3\n",
        "  ),\n",
        "    dcc.Graph(\n",
        "    id = 'correlation_matrix',\n",
        "    figure = fig4\n",
        "  ),\n",
        "    dcc.Graph(\n",
        "    id = 'histogram',\n",
        "    figure = fig5\n",
        "  ),\n",
        "    dash_table.DataTable(\n",
        "    id = 'table',\n",
        "    columns = [{\n",
        "        \"name\": i,\n",
        "        \"id\": i\n",
        "      }\n",
        "      for i in df.columns],\n",
        "    data = df.head(20)\n",
        "    .to_dict('records'),\n",
        "  )\n",
        "])\n",
        "\n"
      ],
      "metadata": {
        "id": "wjRhaZar8e9i"
      },
      "execution_count": null,
      "outputs": []
    },
    {
      "cell_type": "code",
      "source": [
        "#3 Find the outlier and correct it using dropping of rows , replacing and applying the transformation\n",
        "import pandas as pd\n",
        "import numpy as np\n",
        "from numpy.random import seed\n",
        "from numpy.random import randn\n",
        "from numpy import mean\n",
        "from numpy import std\n",
        "# seed the random number generator\n",
        "seed(1)\n",
        "# generate univariate observations\n",
        "data = 5 * randn(10000) + 50\n",
        "# summarize\n",
        "print('mean=%.3f stdv=%.3f' % (mean(data), std(data)))\n",
        "outliers = [x for x in data if x < lower or x > upper]\n",
        "outliers\n",
        "outliers_removed = [x for x in data if x > lower and x < upper]\n",
        "outliers_removed"
      ],
      "metadata": {
        "id": "CMXQlRk46nVp"
      },
      "execution_count": null,
      "outputs": []
    },
    {
      "cell_type": "code",
      "source": [
        "from numpy.random import seed\n",
        "from numpy.random import randn\n",
        "from numpy import percentile\n",
        "seed(1)\n",
        "data = 5 * randn(10000) + 50\n",
        "q25, q75 = percentile(data, 25), percentile(data, 75)\n",
        "iqr = q75 - q25\n",
        "print('Percentiles: 25th=%.3f, 75th=%.3f, IQR=%.3f' % (q25, q75, iqr))\n",
        "cut_off = iqr * 1.5\n",
        "lower, upper = q25 - cut_off, q75 + cut_off\n",
        "outliers = [x for x in data if x < lower or x > upper]\n",
        "print('Identified outliers: %d' % len(outliers))\n",
        "outliers_removed = [x for x in data if x >= lower and x <= upper]\n",
        "print('Non-outlier observations: %d' % len(outliers_removed))"
      ],
      "metadata": {
        "id": "ibe6UtoJ-M9C"
      },
      "execution_count": null,
      "outputs": []
    },
    {
      "cell_type": "code",
      "source": [
        "#5 Read the image file and convert into pixels , also apply the different text preprocessing techniques for text data. \n",
        "from matplotlib import pyplot as plt\n",
        "from skimage import data\n",
        "from skimage.feature import blob_dog, blob_log, blob_doh\n",
        "from math import sqrt\n",
        "from skimage.color import rgb2gray\n",
        "import glob\n",
        "from skimage.io import imread\n",
        "my_file = glob.glob('taj.jpg')\n",
        "im = imread(my_file)\n",
        "plt.imshow(im)\n",
        "plt.show()\n",
        "taj_resize = resize(taj,(120,120)) \n",
        "resize_taj\n",
        "def setup():\n",
        "    global img\n",
        "    size(120, 120)\n",
        "    img = loadImage(\"taj.jpg\")\n",
        "\n",
        "def draw():\n",
        "    loadPixels()\n",
        "   \n",
        "    img.loadPixels()\n",
        "    for y in xrange(height):\n",
        "        for x in xrange(width):\n",
        "            loc = x + y*width\n",
        "            r = red(img.pixels[loc])\n",
        "            g = green(img.pixels[loc])\n",
        "            b = blue(img.pixels[loc])\n",
        "\n",
        "            pixels[loc] =  color(r,g,b)        \n",
        "\n",
        "    updatePixels()\n",
        "\n"
      ],
      "metadata": {
        "id": "tvdfbLnPZSII"
      },
      "execution_count": null,
      "outputs": []
    }
  ]
}