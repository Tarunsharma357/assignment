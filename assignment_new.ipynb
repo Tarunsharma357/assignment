{
  "nbformat": 4,
  "nbformat_minor": 0,
  "metadata": {
    "colab": {
      "name": "assignment_new.ipynb",
      "provenance": [],
      "collapsed_sections": [],
      "authorship_tag": "ABX9TyOv1jYqkVBeH1pfljKbc4dP",
      "include_colab_link": true
    },
    "kernelspec": {
      "name": "python3",
      "display_name": "Python 3"
    },
    "language_info": {
      "name": "python"
    }
  },
  "cells": [
    {
      "cell_type": "markdown",
      "metadata": {
        "id": "view-in-github",
        "colab_type": "text"
      },
      "source": [
        "<a href=\"https://colab.research.google.com/github/Tarunsharma357/assignment/blob/main/assignment_new.ipynb\" target=\"_parent\"><img src=\"https://colab.research.google.com/assets/colab-badge.svg\" alt=\"Open In Colab\"/></a>"
      ]
    },
    {
      "cell_type": "code",
      "execution_count": null,
      "metadata": {
        "id": "iT117Qxa94dm"
      },
      "outputs": [],
      "source": [
        "import pandas as pd\n",
        "import numpy as np\n",
        "import scipy.stats\n",
        "import json\n",
        "import time\n",
        "from scipy import stats\n",
        "import matplotlib.pyplot as plt\n",
        "import seaborn as sns\n",
        "sns.set(style=\"whitegrid\")\n"
      ]
    },
    {
      "cell_type": "code",
      "source": [
        "user_eng=pd.read_csv('takehome_user_engagement.csv')\n",
        "user_eng.head()"
      ],
      "metadata": {
        "id": "KghjZsua-M2A"
      },
      "execution_count": null,
      "outputs": []
    },
    {
      "cell_type": "code",
      "source": [
        "users = pd.read_csv('takehome_users.csv',encoding='ISO-8859-1')\n",
        "users.head()"
      ],
      "metadata": {
        "id": "yMjewZCl-OBv"
      },
      "execution_count": null,
      "outputs": []
    },
    {
      "cell_type": "code",
      "source": [
        "takehome_user_engagemene.info()"
      ],
      "metadata": {
        "id": "9FKcDNx--6Hu"
      },
      "execution_count": null,
      "outputs": []
    },
    {
      "cell_type": "code",
      "source": [
        "takehome_users.info()"
      ],
      "metadata": {
        "id": "QrRzxgAc_CFa"
      },
      "execution_count": null,
      "outputs": []
    },
    {
      "cell_type": "code",
      "source": [
        "users['last_session_creation_time'] = pd.to_datetime(users['last_session_creation_time'] ,unit='s')\n"
      ],
      "metadata": {
        "id": "KnneWdgS_ImP"
      },
      "execution_count": null,
      "outputs": []
    },
    {
      "cell_type": "code",
      "source": [
        "sers['last_session_creation_time'].min(), users['last_session_creation_time'].max()"
      ],
      "metadata": {
        "id": "Go1vEx2d_10_"
      },
      "execution_count": null,
      "outputs": []
    },
    {
      "cell_type": "code",
      "source": [
        "sers['creation_time'].min(), users['creation_time'].max()"
      ],
      "metadata": {
        "id": "ByJLJlcSAFUl"
      },
      "execution_count": null,
      "outputs": []
    },
    {
      "cell_type": "code",
      "source": [
        "df['date'] = pd.to_datetime(df.time_stamp.dt.date)"
      ],
      "metadata": {
        "id": "7Xzqiz9lAdTe"
      },
      "execution_count": null,
      "outputs": []
    },
    {
      "cell_type": "code",
      "source": [
        "def rolling_count(df_group, frequency):\n",
        "    return df_group.rolling(frequency, on='date')['user_id'].count()"
      ],
      "metadata": {
        "id": "ilhU1bw_AihH"
      },
      "execution_count": null,
      "outputs": []
    },
    {
      "cell_type": "code",
      "source": [
        "df['visits_7_days'] = df.groupby('user_id', as_index=False, group_keys=False).apply(rolling_count, '7D')\n"
      ],
      "metadata": {
        "id": "2HHeDd7NAnnV"
      },
      "execution_count": null,
      "outputs": []
    },
    {
      "cell_type": "code",
      "source": [
        "user_adopted = df.groupby('user_id')['visits_7_days'].max().reset_index()\n"
      ],
      "metadata": {
        "id": "b4C6kY8SAtV1"
      },
      "execution_count": null,
      "outputs": []
    },
    {
      "cell_type": "code",
      "source": [
        "user_adopted.drop('visits_7_days', axis = 1, inplace = True)\n",
        "user_adopted.rename(columns={\"user_id\": \"object_id\"}, inplace=True)\n"
      ],
      "metadata": {
        "id": "L2OGNJU1BMZL"
      },
      "execution_count": null,
      "outputs": []
    },
    {
      "cell_type": "code",
      "source": [
        "user_adopted.set_index(\"object_id\", inplace = True)\n"
      ],
      "metadata": {
        "id": "ueveJ1x3BQJd"
      },
      "execution_count": null,
      "outputs": []
    },
    {
      "cell_type": "code",
      "source": [
        "df_users = users.join(user_adopted, on = 'object_id', how='left')\n"
      ],
      "metadata": {
        "id": "koMFQgBNBU3r"
      },
      "execution_count": null,
      "outputs": []
    },
    {
      "cell_type": "code",
      "source": [
        "df_users['last_session_creation_time'].fillna(0, inplace = True)\n",
        "df_users['adopted_user'].fillna(0, inplace = True)"
      ],
      "metadata": {
        "id": "HjkKpwFmBg3-"
      },
      "execution_count": null,
      "outputs": []
    },
    {
      "cell_type": "code",
      "source": [
        "df_users['email_domain'] = df_users.email.apply(lambda x: x.split('@')[1])"
      ],
      "metadata": {
        "id": "ubMTEuGSBlhz"
      },
      "execution_count": null,
      "outputs": []
    },
    {
      "cell_type": "code",
      "source": [
        "df_users.drop(['object_id', 'name', 'email', 'email_domain'], axis = 1, inplace = True)\n"
      ],
      "metadata": {
        "id": "-RFYI_wpBtuW"
      },
      "execution_count": null,
      "outputs": []
    },
    {
      "cell_type": "code",
      "source": [
        "from sklearn import preprocessing \n",
        "from sklearn.preprocessing import LabelEncoder"
      ],
      "metadata": {
        "id": "ne_YpasBCP3X"
      },
      "execution_count": null,
      "outputs": []
    },
    {
      "cell_type": "code",
      "source": [
        "from sklearn.model_selection import train_test_split\n",
        "X_train, X_test, y_train, y_test = train_test_split(X,y,test_size = 0.3,random_state=3)\n",
        "print('Train size:',(len(X_train)/len(X))*100)\n",
        "print('Train observations:',(len(X_train)))\n",
        "print('Test size:',(len(X_test)/len(X))*100)\n",
        "print('Test observations:',(len(X_test)))"
      ],
      "metadata": {
        "id": "3hPLQ-M3CVNC"
      },
      "execution_count": null,
      "outputs": []
    },
    {
      "cell_type": "code",
      "source": [
        "***converted the csv iles to data frame. then try to find the null values in the the given data sets and try to fil them. then try to find the users thst were \n",
        "called as adopted user that is they are the onee logging in for 3 times in 7 days. try to find the vlid emaal ids. then we will train the values to create the model***"
      ],
      "metadata": {
        "id": "hciaWFilCt_r"
      },
      "execution_count": null,
      "outputs": []
    }
  ]
}